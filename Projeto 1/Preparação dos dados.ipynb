{
 "cells": [
  {
   "cell_type": "markdown",
   "metadata": {},
   "source": [
    "# PROJETO 1 - Preparando os Dados "
   ]
  },
  {
   "cell_type": "markdown",
   "metadata": {},
   "source": [
    "## Introdução"
   ]
  },
  {
   "cell_type": "markdown",
   "metadata": {},
   "source": [
    "Descrição aqui"
   ]
  },
  {
   "cell_type": "code",
   "execution_count": 1,
   "metadata": {
    "collapsed": true
   },
   "outputs": [],
   "source": [
    "%matplotlib inline\n",
    "import pandas as pd\n",
    "import matplotlib.pyplot as plt\n",
    "import numpy as np\n",
    "import os"
   ]
  },
  {
   "cell_type": "code",
   "execution_count": 2,
   "metadata": {
    "collapsed": false
   },
   "outputs": [
    {
     "name": "stdout",
     "output_type": "stream",
     "text": [
      "Esperamos trabalhar no diretório\n",
      "/Users/Lucanoto/Desktop/Projeto 1\n"
     ]
    }
   ],
   "source": [
    "print('Esperamos trabalhar no diretório')\n",
    "print(os.getcwd())"
   ]
  },
  {
   "cell_type": "markdown",
   "metadata": {},
   "source": [
    "# Abrindo os arquivos"
   ]
  },
  {
   "cell_type": "code",
   "execution_count": 3,
   "metadata": {
    "collapsed": false
   },
   "outputs": [
    {
     "name": "stdout",
     "output_type": "stream",
     "text": [
      "Hora do show!\n"
     ]
    }
   ],
   "source": [
    "dados01 = pd.read_csv(\"PES2001.csv\", sep=\",\") # Abrindo o PNAD de 2001\n",
    "dados14 = pd.read_csv(\"PES2014.csv\", sep=\",\") # Abrindo o PNAD de 2014\n",
    "print('Hora do show!')"
   ]
  },
  {
   "cell_type": "markdown",
   "metadata": {},
   "source": [
    "# Arrumando o nome da variável UF"
   ]
  },
  {
   "cell_type": "code",
   "execution_count": 4,
   "metadata": {
    "collapsed": false
   },
   "outputs": [],
   "source": [
    "dados14 = dados14.rename(columns = {'UF   ':'UF'})\n",
    "dados01 = dados01.rename(columns = {'uf':'UF'})"
   ]
  },
  {
   "cell_type": "markdown",
   "metadata": {},
   "source": [
    "## Selecionando os grupos de comparação"
   ]
  },
  {
   "cell_type": "code",
   "execution_count": 5,
   "metadata": {
    "collapsed": false
   },
   "outputs": [
    {
     "data": {
      "text/html": [
       "<div>\n",
       "<table border=\"1\" class=\"dataframe\">\n",
       "  <thead>\n",
       "    <tr style=\"text-align: right;\">\n",
       "      <th></th>\n",
       "      <th>Unnamed: 0</th>\n",
       "      <th>V0101</th>\n",
       "      <th>UF</th>\n",
       "      <th>V0102</th>\n",
       "      <th>V0103</th>\n",
       "      <th>V0301</th>\n",
       "      <th>V0302</th>\n",
       "      <th>V3031</th>\n",
       "      <th>V3032</th>\n",
       "      <th>V3033</th>\n",
       "      <th>...</th>\n",
       "      <th>V4741</th>\n",
       "      <th>V4742</th>\n",
       "      <th>V4743</th>\n",
       "      <th>V4745</th>\n",
       "      <th>V4746</th>\n",
       "      <th>V4747</th>\n",
       "      <th>V4748</th>\n",
       "      <th>V4749</th>\n",
       "      <th>V4750</th>\n",
       "      <th>V9993</th>\n",
       "    </tr>\n",
       "  </thead>\n",
       "  <tbody>\n",
       "    <tr>\n",
       "      <th>5</th>\n",
       "      <td>5</td>\n",
       "      <td>2014</td>\n",
       "      <td>11</td>\n",
       "      <td>15</td>\n",
       "      <td>3</td>\n",
       "      <td>1</td>\n",
       "      <td>4</td>\n",
       "      <td>5</td>\n",
       "      <td>1</td>\n",
       "      <td>1937</td>\n",
       "      <td>...</td>\n",
       "      <td>1</td>\n",
       "      <td>724</td>\n",
       "      <td>3</td>\n",
       "      <td>2</td>\n",
       "      <td>2</td>\n",
       "      <td>NaN</td>\n",
       "      <td>NaN</td>\n",
       "      <td>2</td>\n",
       "      <td>724</td>\n",
       "      <td>20160623</td>\n",
       "    </tr>\n",
       "    <tr>\n",
       "      <th>11</th>\n",
       "      <td>11</td>\n",
       "      <td>2014</td>\n",
       "      <td>11</td>\n",
       "      <td>15</td>\n",
       "      <td>5</td>\n",
       "      <td>1</td>\n",
       "      <td>4</td>\n",
       "      <td>13</td>\n",
       "      <td>7</td>\n",
       "      <td>1946</td>\n",
       "      <td>...</td>\n",
       "      <td>4</td>\n",
       "      <td>855</td>\n",
       "      <td>4</td>\n",
       "      <td>2</td>\n",
       "      <td>2</td>\n",
       "      <td>NaN</td>\n",
       "      <td>NaN</td>\n",
       "      <td>2</td>\n",
       "      <td>855</td>\n",
       "      <td>20160623</td>\n",
       "    </tr>\n",
       "    <tr>\n",
       "      <th>25</th>\n",
       "      <td>25</td>\n",
       "      <td>2014</td>\n",
       "      <td>11</td>\n",
       "      <td>15</td>\n",
       "      <td>10</td>\n",
       "      <td>1</td>\n",
       "      <td>2</td>\n",
       "      <td>15</td>\n",
       "      <td>10</td>\n",
       "      <td>1948</td>\n",
       "      <td>...</td>\n",
       "      <td>2</td>\n",
       "      <td>2362</td>\n",
       "      <td>6</td>\n",
       "      <td>2</td>\n",
       "      <td>1</td>\n",
       "      <td>1</td>\n",
       "      <td>1</td>\n",
       "      <td>1</td>\n",
       "      <td>2362</td>\n",
       "      <td>20160623</td>\n",
       "    </tr>\n",
       "    <tr>\n",
       "      <th>26</th>\n",
       "      <td>26</td>\n",
       "      <td>2014</td>\n",
       "      <td>11</td>\n",
       "      <td>15</td>\n",
       "      <td>10</td>\n",
       "      <td>2</td>\n",
       "      <td>4</td>\n",
       "      <td>24</td>\n",
       "      <td>6</td>\n",
       "      <td>1952</td>\n",
       "      <td>...</td>\n",
       "      <td>2</td>\n",
       "      <td>2362</td>\n",
       "      <td>6</td>\n",
       "      <td>5</td>\n",
       "      <td>2</td>\n",
       "      <td>NaN</td>\n",
       "      <td>NaN</td>\n",
       "      <td>2</td>\n",
       "      <td>2362</td>\n",
       "      <td>20160623</td>\n",
       "    </tr>\n",
       "    <tr>\n",
       "      <th>51</th>\n",
       "      <td>51</td>\n",
       "      <td>2014</td>\n",
       "      <td>11</td>\n",
       "      <td>23</td>\n",
       "      <td>1</td>\n",
       "      <td>5</td>\n",
       "      <td>2</td>\n",
       "      <td>25</td>\n",
       "      <td>1</td>\n",
       "      <td>1924</td>\n",
       "      <td>...</td>\n",
       "      <td>5</td>\n",
       "      <td>444</td>\n",
       "      <td>3</td>\n",
       "      <td>1</td>\n",
       "      <td>2</td>\n",
       "      <td>NaN</td>\n",
       "      <td>NaN</td>\n",
       "      <td>2</td>\n",
       "      <td>444</td>\n",
       "      <td>20160623</td>\n",
       "    </tr>\n",
       "  </tbody>\n",
       "</table>\n",
       "<p>5 rows × 342 columns</p>\n",
       "</div>"
      ],
      "text/plain": [
       "    Unnamed: 0  V0101  UF  V0102  V0103  V0301  V0302  V3031  V3032  V3033  \\\n",
       "5            5   2014  11     15      3      1      4      5      1   1937   \n",
       "11          11   2014  11     15      5      1      4     13      7   1946   \n",
       "25          25   2014  11     15     10      1      2     15     10   1948   \n",
       "26          26   2014  11     15     10      2      4     24      6   1952   \n",
       "51          51   2014  11     23      1      5      2     25      1   1924   \n",
       "\n",
       "      ...     V4741  V4742  V4743  V4745  V4746  V4747  V4748  V4749  V4750  \\\n",
       "5     ...         1    724      3      2      2    NaN    NaN      2    724   \n",
       "11    ...         4    855      4      2      2    NaN    NaN      2    855   \n",
       "25    ...         2   2362      6      2      1      1      1      1   2362   \n",
       "26    ...         2   2362      6      5      2    NaN    NaN      2   2362   \n",
       "51    ...         5    444      3      1      2    NaN    NaN      2    444   \n",
       "\n",
       "       V9993  \n",
       "5   20160623  \n",
       "11  20160623  \n",
       "25  20160623  \n",
       "26  20160623  \n",
       "51  20160623  \n",
       "\n",
       "[5 rows x 342 columns]"
      ]
     },
     "execution_count": 5,
     "metadata": {},
     "output_type": "execute_result"
    }
   ],
   "source": [
    "aposentados14 = dados14[dados14.V9122==2]\n",
    "aposentados14.head()"
   ]
  },
  {
   "cell_type": "code",
   "execution_count": 6,
   "metadata": {
    "collapsed": false
   },
   "outputs": [
    {
     "data": {
      "text/html": [
       "<div>\n",
       "<table border=\"1\" class=\"dataframe\">\n",
       "  <thead>\n",
       "    <tr style=\"text-align: right;\">\n",
       "      <th></th>\n",
       "      <th>v0101</th>\n",
       "      <th>UF</th>\n",
       "      <th>v0102</th>\n",
       "      <th>v0103</th>\n",
       "      <th>v0301</th>\n",
       "      <th>v0302</th>\n",
       "      <th>v3031</th>\n",
       "      <th>v3032</th>\n",
       "      <th>v3033</th>\n",
       "      <th>v8005</th>\n",
       "      <th>...</th>\n",
       "      <th>v2201</th>\n",
       "      <th>v2202</th>\n",
       "      <th>v1623</th>\n",
       "      <th>v1624</th>\n",
       "      <th>v1625</th>\n",
       "      <th>v1626</th>\n",
       "      <th>v1627</th>\n",
       "      <th>v1628</th>\n",
       "      <th>v1629</th>\n",
       "      <th>v1630</th>\n",
       "    </tr>\n",
       "  </thead>\n",
       "  <tbody>\n",
       "    <tr>\n",
       "      <th>11</th>\n",
       "      <td>2001</td>\n",
       "      <td>11</td>\n",
       "      <td>11000000</td>\n",
       "      <td>3</td>\n",
       "      <td>3</td>\n",
       "      <td>2</td>\n",
       "      <td>19</td>\n",
       "      <td>3</td>\n",
       "      <td>1918</td>\n",
       "      <td>83</td>\n",
       "      <td>...</td>\n",
       "      <td>NaN</td>\n",
       "      <td>NaN</td>\n",
       "      <td>NaN</td>\n",
       "      <td>NaN</td>\n",
       "      <td>NaN</td>\n",
       "      <td>NaN</td>\n",
       "      <td>NaN</td>\n",
       "      <td>NaN</td>\n",
       "      <td>NaN</td>\n",
       "      <td>NaN</td>\n",
       "    </tr>\n",
       "    <tr>\n",
       "      <th>21</th>\n",
       "      <td>2001</td>\n",
       "      <td>11</td>\n",
       "      <td>11000000</td>\n",
       "      <td>6</td>\n",
       "      <td>1</td>\n",
       "      <td>2</td>\n",
       "      <td>17</td>\n",
       "      <td>12</td>\n",
       "      <td>1916</td>\n",
       "      <td>84</td>\n",
       "      <td>...</td>\n",
       "      <td>NaN</td>\n",
       "      <td>NaN</td>\n",
       "      <td>NaN</td>\n",
       "      <td>NaN</td>\n",
       "      <td>NaN</td>\n",
       "      <td>NaN</td>\n",
       "      <td>NaN</td>\n",
       "      <td>NaN</td>\n",
       "      <td>NaN</td>\n",
       "      <td>NaN</td>\n",
       "    </tr>\n",
       "    <tr>\n",
       "      <th>33</th>\n",
       "      <td>2001</td>\n",
       "      <td>11</td>\n",
       "      <td>11000000</td>\n",
       "      <td>10</td>\n",
       "      <td>3</td>\n",
       "      <td>4</td>\n",
       "      <td>26</td>\n",
       "      <td>4</td>\n",
       "      <td>1933</td>\n",
       "      <td>68</td>\n",
       "      <td>...</td>\n",
       "      <td>NaN</td>\n",
       "      <td>NaN</td>\n",
       "      <td>NaN</td>\n",
       "      <td>NaN</td>\n",
       "      <td>NaN</td>\n",
       "      <td>NaN</td>\n",
       "      <td>NaN</td>\n",
       "      <td>NaN</td>\n",
       "      <td>NaN</td>\n",
       "      <td>NaN</td>\n",
       "    </tr>\n",
       "    <tr>\n",
       "      <th>54</th>\n",
       "      <td>2001</td>\n",
       "      <td>11</td>\n",
       "      <td>11000000</td>\n",
       "      <td>16</td>\n",
       "      <td>1</td>\n",
       "      <td>2</td>\n",
       "      <td>12</td>\n",
       "      <td>12</td>\n",
       "      <td>1939</td>\n",
       "      <td>61</td>\n",
       "      <td>...</td>\n",
       "      <td>NaN</td>\n",
       "      <td>NaN</td>\n",
       "      <td>NaN</td>\n",
       "      <td>NaN</td>\n",
       "      <td>NaN</td>\n",
       "      <td>NaN</td>\n",
       "      <td>NaN</td>\n",
       "      <td>NaN</td>\n",
       "      <td>NaN</td>\n",
       "      <td>NaN</td>\n",
       "    </tr>\n",
       "    <tr>\n",
       "      <th>55</th>\n",
       "      <td>2001</td>\n",
       "      <td>11</td>\n",
       "      <td>11000000</td>\n",
       "      <td>16</td>\n",
       "      <td>2</td>\n",
       "      <td>4</td>\n",
       "      <td>5</td>\n",
       "      <td>9</td>\n",
       "      <td>1940</td>\n",
       "      <td>61</td>\n",
       "      <td>...</td>\n",
       "      <td>NaN</td>\n",
       "      <td>NaN</td>\n",
       "      <td>NaN</td>\n",
       "      <td>NaN</td>\n",
       "      <td>NaN</td>\n",
       "      <td>NaN</td>\n",
       "      <td>NaN</td>\n",
       "      <td>NaN</td>\n",
       "      <td>NaN</td>\n",
       "      <td>NaN</td>\n",
       "    </tr>\n",
       "  </tbody>\n",
       "</table>\n",
       "<p>5 rows × 364 columns</p>\n",
       "</div>"
      ],
      "text/plain": [
       "    v0101  UF     v0102  v0103  v0301  v0302  v3031  v3032  v3033  v8005  \\\n",
       "11   2001  11  11000000      3      3      2     19      3   1918     83   \n",
       "21   2001  11  11000000      6      1      2     17     12   1916     84   \n",
       "33   2001  11  11000000     10      3      4     26      4   1933     68   \n",
       "54   2001  11  11000000     16      1      2     12     12   1939     61   \n",
       "55   2001  11  11000000     16      2      4      5      9   1940     61   \n",
       "\n",
       "    ...    v2201  v2202  v1623  v1624  v1625  v1626  v1627  v1628  v1629  \\\n",
       "11  ...      NaN    NaN    NaN    NaN    NaN    NaN    NaN    NaN    NaN   \n",
       "21  ...      NaN    NaN    NaN    NaN    NaN    NaN    NaN    NaN    NaN   \n",
       "33  ...      NaN    NaN    NaN    NaN    NaN    NaN    NaN    NaN    NaN   \n",
       "54  ...      NaN    NaN    NaN    NaN    NaN    NaN    NaN    NaN    NaN   \n",
       "55  ...      NaN    NaN    NaN    NaN    NaN    NaN    NaN    NaN    NaN   \n",
       "\n",
       "    v1630  \n",
       "11    NaN  \n",
       "21    NaN  \n",
       "33    NaN  \n",
       "54    NaN  \n",
       "55    NaN  \n",
       "\n",
       "[5 rows x 364 columns]"
      ]
     },
     "execution_count": 6,
     "metadata": {},
     "output_type": "execute_result"
    }
   ],
   "source": [
    "aposentados01 = dados01[dados01.v9122==2]\n",
    "aposentados01.head()"
   ]
  },
  {
   "cell_type": "markdown",
   "metadata": {},
   "source": [
    "# Selecionando as Variáveis"
   ]
  },
  {
   "cell_type": "code",
   "execution_count": 8,
   "metadata": {
    "collapsed": false
   },
   "outputs": [],
   "source": [
    "aposentados01 = aposentados01[['UF','v0302','v8005','v0404','v0601','v0602','v0603','v9122','v1251','v1252','v4754','v4757','v4770','v4728','v4703','v0402']]\n",
    "aposentados14 = aposentados14[['UF','V0302','V8005','V0404','V0601','V0602','V6003','V9122','V1251','V1252','V4704','V4707','V4720','V4728','V4803','V0402']]"
   ]
  },
  {
   "cell_type": "markdown",
   "metadata": {
    "collapsed": false
   },
   "source": [
    "# Renomeando as Colunas (nome das variáveis)"
   ]
  },
  {
   "cell_type": "code",
   "execution_count": 9,
   "metadata": {
    "collapsed": false
   },
   "outputs": [],
   "source": [
    "aposentados01.columns = ['UF','SEXO','IDADE','COR','ALFABETIZADO','ESCOLA_CRECHE','CURSO','APOSENTADO', 'APOSENTADORIA', 'VALOR_APOSENTADORIA','PEA','HORAS_TRABALHO','REND_MEN_TOT','SIT_CENSITARIA','ANOS_ESTUDO','COND_FAMILIAR']\n",
    "aposentados14.columns = ['UF','SEXO','IDADE','COR','ALFABETIZADO','ESCOLA_CRECHE','CURSO','APOSENTADO', 'APOSENTADORIA', 'VALOR_APOSENTADORIA','PEA','HORAS_TRABALHO','REND_MEN_TOT','SIT_CENSITARIA','ANOS_ESTUDO','COND_FAMILIAR']"
   ]
  },
  {
   "cell_type": "markdown",
   "metadata": {
    "collapsed": false
   },
   "source": [
    "# Criando coluna 'Regiões' e 'Salários Mínimos'"
   ]
  },
  {
   "cell_type": "code",
   "execution_count": 10,
   "metadata": {
    "collapsed": false
   },
   "outputs": [],
   "source": [
    "aposentados01.insert(1,'REGIAO',0)\n",
    "aposentados14.insert(1,'REGIAO',0)\n",
    "\n",
    "aposentados01.insert(12,'SAL_MIN',0)\n",
    "aposentados14.insert(12,'SAL_MIN',0)"
   ]
  },
  {
   "cell_type": "markdown",
   "metadata": {},
   "source": [
    "## \"Distribuindo\" os estados em cada região"
   ]
  },
  {
   "cell_type": "markdown",
   "metadata": {},
   "source": [
    "#### PNAD 2001"
   ]
  },
  {
   "cell_type": "code",
   "execution_count": 11,
   "metadata": {
    "collapsed": false
   },
   "outputs": [
    {
     "name": "stdout",
     "output_type": "stream",
     "text": [
      "Comando executado\n"
     ]
    },
    {
     "name": "stderr",
     "output_type": "stream",
     "text": [
      "//anaconda/lib/python3.5/site-packages/pandas/core/indexing.py:426: SettingWithCopyWarning: \n",
      "A value is trying to be set on a copy of a slice from a DataFrame.\n",
      "Try using .loc[row_indexer,col_indexer] = value instead\n",
      "\n",
      "See the caveats in the documentation: http://pandas.pydata.org/pandas-docs/stable/indexing.html#indexing-view-versus-copy\n",
      "  self.obj[item] = s\n"
     ]
    }
   ],
   "source": [
    "aposentados01.ix[aposentados01.UF <= 17,'REGIAO'] = 'Norte'\n",
    "aposentados01.ix[(aposentados01.UF >=21) & (aposentados01.UF<=29),'REGIAO'] = 'Nordeste'\n",
    "aposentados01.ix[(aposentados01.UF >=31) & (aposentados01.UF<=35),'REGIAO'] = 'Sudeste'\n",
    "aposentados01.ix[(aposentados01.UF >=41) & (aposentados01.UF<=43),'REGIAO'] = 'Sul'\n",
    "aposentados01.ix[aposentados01.UF >=50 ,'REGIAO'] = 'CentroOeste'\n",
    "\n",
    "print('Comando executado')"
   ]
  },
  {
   "cell_type": "markdown",
   "metadata": {},
   "source": [
    "#### PNAD 2014"
   ]
  },
  {
   "cell_type": "code",
   "execution_count": 12,
   "metadata": {
    "collapsed": false
   },
   "outputs": [
    {
     "name": "stdout",
     "output_type": "stream",
     "text": [
      "Comando executado\n"
     ]
    }
   ],
   "source": [
    "aposentados14.ix[aposentados14.UF <= 17,'REGIAO'] = 'Norte'\n",
    "aposentados14.ix[(aposentados14.UF >=21) & (aposentados14.UF<=29),'REGIAO'] = 'Nordeste'\n",
    "aposentados14.ix[(aposentados14.UF >=31) & (aposentados14.UF<=35),'REGIAO'] = 'Sudeste'\n",
    "aposentados14.ix[(aposentados14.UF >=41) & (aposentados14.UF<=43),'REGIAO'] = 'Sul'\n",
    "aposentados14.ix[aposentados14.UF >=50 ,'REGIAO'] = 'CentroOeste'\n",
    "\n",
    "print('Comando executado')"
   ]
  },
  {
   "cell_type": "markdown",
   "metadata": {},
   "source": [
    "# Salvando os Dataframes em 2 novos arquivos .csv"
   ]
  },
  {
   "cell_type": "code",
   "execution_count": 13,
   "metadata": {
    "collapsed": false
   },
   "outputs": [
    {
     "name": "stdout",
     "output_type": "stream",
     "text": [
      "Comando executado\n"
     ]
    }
   ],
   "source": [
    "aposentados01.to_csv('dados_preparados_2001.csv')\n",
    "aposentados14.to_csv('dados_preparados_2014.csv')\n",
    "\n",
    "print('Comando executado')"
   ]
  },
  {
   "cell_type": "code",
   "execution_count": null,
   "metadata": {
    "collapsed": false
   },
   "outputs": [],
   "source": [
    "#salario min 2001 =180 e 2014 724 reais"
   ]
  }
 ],
 "metadata": {
  "kernelspec": {
   "display_name": "Python 3",
   "language": "python",
   "name": "python3"
  },
  "language_info": {
   "codemirror_mode": {
    "name": "ipython",
    "version": 3
   },
   "file_extension": ".py",
   "mimetype": "text/x-python",
   "name": "python",
   "nbconvert_exporter": "python",
   "pygments_lexer": "ipython3",
   "version": "3.5.1"
  }
 },
 "nbformat": 4,
 "nbformat_minor": 0
}

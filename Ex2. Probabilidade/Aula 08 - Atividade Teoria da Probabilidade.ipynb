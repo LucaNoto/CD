{
 "cells": [
  {
   "cell_type": "markdown",
   "metadata": {},
   "source": [
    "___\n",
    "# Atividade: Teoria da Probabilidade\n",
    "___\n",
    "\n",
    "## Aula 08\n",
    "\n",
    "**Referência de Leitura:**\n",
    "1. Magalhães e Lima (7ª. Edição): pág. 49 a 68 - Probabilidades\n",
    "\n",
    "**Hoje:**\n",
    "1. Conceito de Probabilidade\n",
    "4. Probabilidade Condicional\n",
    "3. Independência de eventos\n",
    "5. Teorema de Bayes. Simulação do problema de Monty Hall\n",
    "\n",
    "**Próxima aula:**\n",
    "1. Magalhães e Lima (7ª. Edição): pág. 69 a 104 - Variáveis aleatórias discretas\n",
    "___"
   ]
  },
  {
   "cell_type": "code",
   "execution_count": 2,
   "metadata": {
    "collapsed": true
   },
   "outputs": [],
   "source": [
    "%matplotlib inline\n",
    "import pandas as pd\n",
    "import matplotlib.pyplot as plt\n",
    "import numpy as np\n",
    "\n",
    "#Bibliotecas necessárias\n",
    "from numpy.random import shuffle, randint, choice\n"
   ]
  },
  {
   "cell_type": "markdown",
   "metadata": {},
   "source": [
    "## <font color='blue'>Exercício 1</font>\n",
    "\n",
    "Monte a simulação de 1000 jogadas de um dado idôneo de 6 faces. Faça o histograma (normalizado) da frequência.\n",
    "\n",
    "    a) Olhando o histograma, o que pode se dizer sobre as probabilidade de cada face?\n",
    "    \n",
    "    b) Discorra sobre o porque da probabilidade não ser exatamente igual à teórica."
   ]
  },
  {
   "cell_type": "code",
   "execution_count": 3,
   "metadata": {
    "collapsed": false
   },
   "outputs": [
    {
     "data": {
      "text/plain": [
       "4    0.167173\n",
       "1    0.167089\n",
       "2    0.166903\n",
       "5    0.166611\n",
       "3    0.166323\n",
       "6    0.165901\n",
       "dtype: float64"
      ]
     },
     "execution_count": 3,
     "metadata": {},
     "output_type": "execute_result"
    }
   ],
   "source": [
    "lancamentos = []\n",
    "for i in range(1000000):\n",
    "    lancamentos.append(np.random.randint(1,7))\n",
    "\n",
    "dados = pd.Series(lancamentos)\n",
    "dados.value_counts(True)"
   ]
  },
  {
   "cell_type": "code",
   "execution_count": 10,
   "metadata": {
    "collapsed": false
   },
   "outputs": [
    {
     "data": {
      "text/plain": [
       "<matplotlib.axes._subplots.AxesSubplot at 0x1233bb1d0>"
      ]
     },
     "execution_count": 10,
     "metadata": {},
     "output_type": "execute_result"
    },
    {
     "data": {
      "image/png": "[encoded data removed]",
      "text/plain": [
       "<matplotlib.figure.Figure at 0x1233c4f98>"
      ]
     },
     "metadata": {},
     "output_type": "display_data"
    }
   ],
   "source": [
    "faixa= range(1,8)\n",
    "dados.plot.hist(bins=faixa, normed=1 )"
   ]
  },
  {
   "cell_type": "markdown",
   "metadata": {},
   "source": [
    "___\n",
    "## <font color='blue'>Exercício 2</font>\n",
    "\n",
    "Ampliando o espaço amostral para as possíveis jogadas de 2 dados, analise as seguintes situações:\n",
    "    \n",
    "    a) Jogando os dois dados ao mesmo tempo. Qual é a probabilidade de obter soma 7?\n",
    "    \n",
    "    b) Jogando um dado e depois o segundo dado. Qual é a probabilidade de obter soma 7 já sabendo o resultado do primeiro? Compare o resultado com item anterior! Por que é igual ou diferente?"
   ]
  },
  {
   "cell_type": "code",
   "execution_count": 6,
   "metadata": {
    "collapsed": false
   },
   "outputs": [
    {
     "data": {
      "text/plain": [
       "7     0.166891\n",
       "6     0.138947\n",
       "8     0.138899\n",
       "9     0.110903\n",
       "5     0.110845\n",
       "4     0.083706\n",
       "10    0.082780\n",
       "3     0.055894\n",
       "11    0.055626\n",
       "2     0.027883\n",
       "12    0.027626\n",
       "dtype: float64"
      ]
     },
     "execution_count": 6,
     "metadata": {},
     "output_type": "execute_result"
    }
   ],
   "source": [
    "lancamentos2 = []\n",
    "\n",
    "for i in range(1000000):\n",
    "    lancamentos2.append((np.random.randint(1,7) + np.random.randint(1,7)))\n",
    "\n",
    "dados2 = pd.Series(lancamentos2)\n",
    "dados2.value_counts(True)"
   ]
  },
  {
   "cell_type": "code",
   "execution_count": 8,
   "metadata": {
    "collapsed": false
   },
   "outputs": [
    {
     "data": {
      "text/plain": [
       "<matplotlib.axes._subplots.AxesSubplot at 0x123bf77f0>"
      ]
     },
     "execution_count": 8,
     "metadata": {},
     "output_type": "execute_result"
    },
    {
     "data": {
      "image/png": "[encoded data removed]",
      "text/plain": [
       "<matplotlib.figure.Figure at 0x119720d68>"
      ]
     },
     "metadata": {},
     "output_type": "display_data"
    }
   ],
   "source": [
    "faixa= range(1,14)\n",
    "dados2.plot.hist(bins=faixa, normed=1 )"
   ]
  },
  {
   "cell_type": "code",
   "execution_count": 14,
   "metadata": {
    "collapsed": false
   },
   "outputs": [
    {
     "data": {
      "text/plain": [
       "7     0.166719\n",
       "8     0.138966\n",
       "6     0.138957\n",
       "5     0.111090\n",
       "9     0.111014\n",
       "4     0.083406\n",
       "10    0.083286\n",
       "11    0.055820\n",
       "3     0.055182\n",
       "2     0.027887\n",
       "12    0.027673\n",
       "dtype: float64"
      ]
     },
     "execution_count": 14,
     "metadata": {},
     "output_type": "execute_result"
    }
   ],
   "source": [
    "lancamentos3 = []\n",
    "lancamentos4 = []\n",
    "\n",
    "for i in range(1000000):\n",
    "    lancamentos3.append(np.random.randint(1,7))\n",
    "    lancamentos4.append((lancamentos3[i] + np.random.randint(1,7)))\n",
    "\n",
    "dados3 = pd.Series(lancamentos4)\n",
    "dados3.value_counts(True)"
   ]
  },
  {
   "cell_type": "code",
   "execution_count": 15,
   "metadata": {
    "collapsed": false
   },
   "outputs": [
    {
     "data": {
      "text/plain": [
       "<matplotlib.axes._subplots.AxesSubplot at 0x1165867b8>"
      ]
     },
     "execution_count": 15,
     "metadata": {},
     "output_type": "execute_result"
    },
    {
     "data": {
      "image/png": "[encoded data removed]",
      "text/plain": [
       "<matplotlib.figure.Figure at 0x11ca2f5f8>"
      ]
     },
     "metadata": {},
     "output_type": "display_data"
    }
   ],
   "source": [
    "faixa= range(1,14)\n",
    "dados3.plot.hist(bins=faixa, normed=1 )"
   ]
  },
  {
   "cell_type": "markdown",
   "metadata": {},
   "source": [
    "___\n",
    "## <font color='blue'>Exercício 3</font>\n",
    "\n",
    "Simule 10000 vezes o problema de Monty Hall¹ , usar o seguinte algoritmo:\n",
    "\n",
    "\n",
    "* Repetir 10000 vezes:\n",
    "    * Sorteie um número de porta de 1 a 3 para ser a premiada\n",
    "    * Sorteie um número de porta de 1 a 3 para ser a porta escolhida.\n",
    "    * Sorteie um número de porta para ser a aberta, desde que não seja a premiada e nem a porta escolhida. Assim, se:\n",
    "        * porta premiada é 1 e a escolhida é 1, sorteie entre as portas 2 e 3 para ser aberta\n",
    "        * porta premiada é 1 e a escolhida é 2, com probabilidade 1 deve abrir a porta 3\n",
    "        * porta premiada é 1 e a escolhida é 3, com probabilidade 1 deve abrir a porta 2\n",
    "        * assim para demais casos...\n",
    "    \n",
    "    * Calcule quantas vezes indivíduo ganha ao trocar de porta. Ou seja, se:\n",
    "        * porta premiada é 1, a escolhida é 1 e aberta é 2 (ou 3), indivíduo perde se trocar de porta\n",
    "        * porta premiada é 1, a escolhida é 2 e aberta é 3, indivíduo ganha se trocar de porta\n",
    "        * porta premiada é 1, a escolhida é 3 e aberta é 2, indivíduo ganha se trocar de porta\n",
    "        * assim para demais casos...\n",
    "        \n",
    "    * Exibir quantas vezes em 10000, o indivíduo ganhou ao trocar de porta.\n",
    "\n",
    "Compare o resultado numérico com o resultado analítico obtido via Teorema de Bayes.\n",
    "\n",
    "¹https://en.wikipedia.org/wiki/Monty_Hall_problem e \n",
    "Exercício 1.4.5 de http://www.portalaction.com.br/probabilidades/14-eventos-independentes-e-probabilidade-condicional"
   ]
  },
  {
   "cell_type": "code",
   "execution_count": 7,
   "metadata": {
    "collapsed": false
   },
   "outputs": [],
   "source": [
    "\n",
    "def Monty_Hall(ITERACOES):\n",
    "    vitórias = 0\n",
    "    derrotas = 0 \n",
    "    for i in range(ITERACOES):\n",
    "        premiada = np.random.randint(1,4)\n",
    "        escolhida = np.random.randint(1,4)\n",
    "        if premiada == 1 and escolhida == 1:\n",
    "            aberta = np.random.randint(2,4)\n",
    "        elif premiada == 2 and escolhida == 2:\n",
    "            a = np.random.randint(1,3)\n",
    "            if a == 1:\n",
    "                aberta = 1\n",
    "            if a == 2:\n",
    "                aberta = 3\n",
    "        elif premiada == 3 and escolhida == 3:\n",
    "            aberta = np.random.randint(1,3)\n",
    "        elif (premiada == 3 and escolhida == 1) or (premiada == 1 and escolhida == 3):\n",
    "            aberta = 2\n",
    "        elif (premiada == 2 and escolhida == 1) or (premiada == 1 and escolhida == 2):\n",
    "            aberta = 3\n",
    "        elif (premiada == 3 and escolhida == 2) or (premiada == 2 and escolhida == 3):\n",
    "            aberta = 1\n",
    "\n",
    "        if premiada == 1 and escolhida == 1 and (aberta == 2 or aberta == 3) or premiada == 2 and escolhida == 2 and (aberta == 1 or aberta == 3) or premiada == 3 and escolhida == 3 and (aberta == 2 or aberta == 1) :\n",
    "            derrotas += 1\n",
    "        elif (premiada == 1 and escolhida == 2 and aberta == 3) or (premiada == 1 and escolhida == 3 and aberta == 2) or (premiada == 2 and escolhida == 1 and aberta == 3) or (premiada == 2 and escolhida == 3 and aberta == 1) or (premiada == 3 and escolhida == 1 and aberta == 2) or (premiada == 3 and escolhida == 2 and aberta == 1): \n",
    "            vitórias+=1\n",
    "        \n",
    "    return print('Vitórias: (Tende a 66%)', vitórias/ITERACOES *100, '%'), print('Derrotas: (Tende a 33%)', derrotas/ITERACOES *100, '%'),  print('Vitórias/Derrotas: (Tende a 2)', vitórias/derrotas)"
   ]
  },
  {
   "cell_type": "code",
   "execution_count": 8,
   "metadata": {
    "collapsed": false
   },
   "outputs": [
    {
     "name": "stdout",
     "output_type": "stream",
     "text": [
      "Vitórias: (Tende a 66%) 70.0 %\n",
      "Derrotas: (Tende a 33%) 30.0 %\n",
      "Vitórias/Derrotas: (Tende a 2) 2.3333333333333335\n"
     ]
    },
    {
     "data": {
      "text/plain": [
       "(None, None, None)"
      ]
     },
     "execution_count": 8,
     "metadata": {},
     "output_type": "execute_result"
    }
   ],
   "source": [
    "Monty_Hall(10)"
   ]
  },
  {
   "cell_type": "code",
   "execution_count": 9,
   "metadata": {
    "collapsed": false
   },
   "outputs": [
    {
     "name": "stdout",
     "output_type": "stream",
     "text": [
      "Vitórias: (Tende a 66%) 70.0 %\n",
      "Derrotas: (Tende a 33%) 30.0 %\n",
      "Vitórias/Derrotas: (Tende a 2) 2.3333333333333335\n"
     ]
    },
    {
     "data": {
      "text/plain": [
       "(None, None, None)"
      ]
     },
     "execution_count": 9,
     "metadata": {},
     "output_type": "execute_result"
    }
   ],
   "source": [
    "Monty_Hall(100)"
   ]
  },
  {
   "cell_type": "code",
   "execution_count": 10,
   "metadata": {
    "collapsed": false
   },
   "outputs": [
    {
     "name": "stdout",
     "output_type": "stream",
     "text": [
      "Vitórias: (Tende a 66%) 68.2 %\n",
      "Derrotas: (Tende a 33%) 31.8 %\n",
      "Vitórias/Derrotas: (Tende a 2) 2.1446540880503147\n"
     ]
    },
    {
     "data": {
      "text/plain": [
       "(None, None, None)"
      ]
     },
     "execution_count": 10,
     "metadata": {},
     "output_type": "execute_result"
    }
   ],
   "source": [
    "Monty_Hall(1000)"
   ]
  },
  {
   "cell_type": "code",
   "execution_count": 11,
   "metadata": {
    "collapsed": false
   },
   "outputs": [
    {
     "name": "stdout",
     "output_type": "stream",
     "text": [
      "Vitórias: (Tende a 66%) 66.05 %\n",
      "Derrotas: (Tende a 33%) 33.95 %\n",
      "Vitórias/Derrotas: (Tende a 2) 1.9455081001472754\n"
     ]
    },
    {
     "data": {
      "text/plain": [
       "(None, None, None)"
      ]
     },
     "execution_count": 11,
     "metadata": {},
     "output_type": "execute_result"
    },
    {
     "name": "stdout",
     "output_type": "stream",
     "text": [
      "Vitórias: (Tende a 66%) 66.05 %\n",
      "Derrotas: (Tende a 33%) 33.95 %\n",
      "Vitórias/Derrotas: (Tende a 2) 1.9455081001472754\n"
     ]
    },
    {
     "data": {
      "text/plain": [
       "(None, None, None)"
      ]
     },
     "execution_count": 11,
     "metadata": {},
     "output_type": "execute_result"
    }
   ],
   "source": [
    "Monty_Hall(10000)"
   ]
  },
  {
   "cell_type": "code",
   "execution_count": 12,
   "metadata": {
    "collapsed": false
   },
   "outputs": [
    {
     "name": "stdout",
     "output_type": "stream",
     "text": [
      "Vitórias: (Tende a 66%) 66.619 %\n",
      "Derrotas: (Tende a 33%) 33.381 %\n",
      "Vitórias/Derrotas: (Tende a 2) 1.9957161259399059\n"
     ]
    },
    {
     "data": {
      "text/plain": [
       "(None, None, None)"
      ]
     },
     "execution_count": 12,
     "metadata": {},
     "output_type": "execute_result"
    },
    {
     "name": "stdout",
     "output_type": "stream",
     "text": [
      "Vitórias: (Tende a 66%) 66.619 %\n",
      "Derrotas: (Tende a 33%) 33.381 %\n",
      "Vitórias/Derrotas: (Tende a 2) 1.9957161259399059\n"
     ]
    },
    {
     "data": {
      "text/plain": [
       "(None, None, None)"
      ]
     },
     "execution_count": 12,
     "metadata": {},
     "output_type": "execute_result"
    }
   ],
   "source": [
    "Monty_Hall(100000)"
   ]
  },
  {
   "cell_type": "code",
   "execution_count": 13,
   "metadata": {
    "collapsed": false
   },
   "outputs": [
    {
     "name": "stdout",
     "output_type": "stream",
     "text": [
      "Vitórias: (Tende a 66%) 66.5798 %\n",
      "Derrotas: (Tende a 33%) 33.4202 %\n",
      "Vitórias/Derrotas: (Tende a 2) 1.99220232075212\n"
     ]
    },
    {
     "data": {
      "text/plain": [
       "(None, None, None)"
      ]
     },
     "execution_count": 13,
     "metadata": {},
     "output_type": "execute_result"
    }
   ],
   "source": [
    "Monty_Hall(1000000)"
   ]
  },
  {
   "cell_type": "code",
   "execution_count": null,
   "metadata": {
    "collapsed": true
   },
   "outputs": [],
   "source": []
  }
 ],
 "metadata": {
  "anaconda-cloud": {},
  "kernelspec": {
   "display_name": "Python 3",
   "language": "python",
   "name": "python3"
  },
  "language_info": {
   "codemirror_mode": {
    "name": "ipython",
    "version": 3
   },
   "file_extension": ".py",
   "mimetype": "text/x-python",
   "name": "python",
   "nbconvert_exporter": "python",
   "pygments_lexer": "ipython3",
   "version": "3.5.1"
  }
 },
 "nbformat": 4,
 "nbformat_minor": 0
}

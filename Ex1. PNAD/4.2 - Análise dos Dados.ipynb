{
 "cells": [
  {
   "cell_type": "markdown",
   "metadata": {},
   "source": [
    "# Análise Qualitativa"
   ]
  },
  {
   "cell_type": "code",
   "execution_count": 1,
   "metadata": {
    "collapsed": true
   },
   "outputs": [],
   "source": [
    "%matplotlib inline\n",
    "import pandas as pd\n",
    "import matplotlib.pyplot as plt\n",
    "import os\n",
    "import numpy as np"
   ]
  },
  {
   "cell_type": "code",
   "execution_count": 2,
   "metadata": {
    "collapsed": false
   },
   "outputs": [
    {
     "name": "stdout",
     "output_type": "stream",
     "text": [
      "Esperamos trabalhar no diretório:\n",
      "/Users/Lucanoto/Desktop/2˚ Semestre/Ciência dos Dados/Exercícios/PNAD\n"
     ]
    }
   ],
   "source": [
    "print('Esperamos trabalhar no diretório:')\n",
    "print(os.getcwd())"
   ]
  },
  {
   "cell_type": "code",
   "execution_count": 3,
   "metadata": {
    "collapsed": false
   },
   "outputs": [
    {
     "name": "stdout",
     "output_type": "stream",
     "text": [
      "Pronto\n"
     ]
    }
   ],
   "source": [
    "dados = pd.read_excel('dados_prontos2.xlsx')\n",
    "print('Pronto')"
   ]
  },
  {
   "cell_type": "code",
   "execution_count": 5,
   "metadata": {
    "collapsed": false
   },
   "outputs": [
    {
     "data": {
      "text/html": [
       "<div>\n",
       "<table border=\"1\" class=\"dataframe\">\n",
       "  <thead>\n",
       "    <tr style=\"text-align: right;\">\n",
       "      <th></th>\n",
       "      <th>UF</th>\n",
       "      <th>REGIAO</th>\n",
       "      <th>SEXO</th>\n",
       "      <th>COR</th>\n",
       "      <th>REDE</th>\n",
       "      <th>NIVEL</th>\n",
       "      <th>ALFABETIZADO</th>\n",
       "      <th>INTERNET_MOVEL</th>\n",
       "      <th>IDADE</th>\n",
       "      <th>RENDMEN</th>\n",
       "    </tr>\n",
       "  </thead>\n",
       "  <tbody>\n",
       "    <tr>\n",
       "      <th>1</th>\n",
       "      <td>11</td>\n",
       "      <td>Norte</td>\n",
       "      <td>4</td>\n",
       "      <td>2</td>\n",
       "      <td>99</td>\n",
       "      <td>99</td>\n",
       "      <td>1</td>\n",
       "      <td>99</td>\n",
       "      <td>42</td>\n",
       "      <td>350</td>\n",
       "    </tr>\n",
       "    <tr>\n",
       "      <th>2</th>\n",
       "      <td>11</td>\n",
       "      <td>Norte</td>\n",
       "      <td>4</td>\n",
       "      <td>8</td>\n",
       "      <td>99</td>\n",
       "      <td>99</td>\n",
       "      <td>3</td>\n",
       "      <td>99</td>\n",
       "      <td>64</td>\n",
       "      <td>678</td>\n",
       "    </tr>\n",
       "    <tr>\n",
       "      <th>3</th>\n",
       "      <td>11</td>\n",
       "      <td>Norte</td>\n",
       "      <td>4</td>\n",
       "      <td>4</td>\n",
       "      <td>2</td>\n",
       "      <td>8</td>\n",
       "      <td>1</td>\n",
       "      <td>1</td>\n",
       "      <td>13</td>\n",
       "      <td>0</td>\n",
       "    </tr>\n",
       "    <tr>\n",
       "      <th>4</th>\n",
       "      <td>11</td>\n",
       "      <td>Norte</td>\n",
       "      <td>2</td>\n",
       "      <td>8</td>\n",
       "      <td>99</td>\n",
       "      <td>99</td>\n",
       "      <td>1</td>\n",
       "      <td>1</td>\n",
       "      <td>23</td>\n",
       "      <td>800</td>\n",
       "    </tr>\n",
       "    <tr>\n",
       "      <th>5</th>\n",
       "      <td>11</td>\n",
       "      <td>Norte</td>\n",
       "      <td>4</td>\n",
       "      <td>8</td>\n",
       "      <td>4</td>\n",
       "      <td>11</td>\n",
       "      <td>1</td>\n",
       "      <td>1</td>\n",
       "      <td>19</td>\n",
       "      <td>0</td>\n",
       "    </tr>\n",
       "    <tr>\n",
       "      <th>6</th>\n",
       "      <td>11</td>\n",
       "      <td>Norte</td>\n",
       "      <td>4</td>\n",
       "      <td>8</td>\n",
       "      <td>4</td>\n",
       "      <td>10</td>\n",
       "      <td>1</td>\n",
       "      <td>1</td>\n",
       "      <td>17</td>\n",
       "      <td>0</td>\n",
       "    </tr>\n",
       "    <tr>\n",
       "      <th>7</th>\n",
       "      <td>11</td>\n",
       "      <td>Norte</td>\n",
       "      <td>2</td>\n",
       "      <td>4</td>\n",
       "      <td>99</td>\n",
       "      <td>99</td>\n",
       "      <td>1</td>\n",
       "      <td>99</td>\n",
       "      <td>59</td>\n",
       "      <td>800</td>\n",
       "    </tr>\n",
       "    <tr>\n",
       "      <th>8</th>\n",
       "      <td>11</td>\n",
       "      <td>Norte</td>\n",
       "      <td>4</td>\n",
       "      <td>2</td>\n",
       "      <td>99</td>\n",
       "      <td>99</td>\n",
       "      <td>1</td>\n",
       "      <td>99</td>\n",
       "      <td>56</td>\n",
       "      <td>0</td>\n",
       "    </tr>\n",
       "    <tr>\n",
       "      <th>9</th>\n",
       "      <td>11</td>\n",
       "      <td>Norte</td>\n",
       "      <td>2</td>\n",
       "      <td>8</td>\n",
       "      <td>99</td>\n",
       "      <td>99</td>\n",
       "      <td>1</td>\n",
       "      <td>1</td>\n",
       "      <td>25</td>\n",
       "      <td>1100</td>\n",
       "    </tr>\n",
       "    <tr>\n",
       "      <th>10</th>\n",
       "      <td>11</td>\n",
       "      <td>Norte</td>\n",
       "      <td>4</td>\n",
       "      <td>2</td>\n",
       "      <td>99</td>\n",
       "      <td>99</td>\n",
       "      <td>1</td>\n",
       "      <td>1</td>\n",
       "      <td>23</td>\n",
       "      <td>134</td>\n",
       "    </tr>\n",
       "    <tr>\n",
       "      <th>11</th>\n",
       "      <td>11</td>\n",
       "      <td>Norte</td>\n",
       "      <td>4</td>\n",
       "      <td>2</td>\n",
       "      <td>2</td>\n",
       "      <td>1</td>\n",
       "      <td>3</td>\n",
       "      <td>99</td>\n",
       "      <td>5</td>\n",
       "      <td>NaN</td>\n",
       "    </tr>\n",
       "  </tbody>\n",
       "</table>\n",
       "</div>"
      ],
      "text/plain": [
       "    UF REGIAO  SEXO  COR  REDE  NIVEL  ALFABETIZADO  INTERNET_MOVEL  IDADE  \\\n",
       "1   11  Norte     4    2    99     99             1              99     42   \n",
       "2   11  Norte     4    8    99     99             3              99     64   \n",
       "3   11  Norte     4    4     2      8             1               1     13   \n",
       "4   11  Norte     2    8    99     99             1               1     23   \n",
       "5   11  Norte     4    8     4     11             1               1     19   \n",
       "6   11  Norte     4    8     4     10             1               1     17   \n",
       "7   11  Norte     2    4    99     99             1              99     59   \n",
       "8   11  Norte     4    2    99     99             1              99     56   \n",
       "9   11  Norte     2    8    99     99             1               1     25   \n",
       "10  11  Norte     4    2    99     99             1               1     23   \n",
       "11  11  Norte     4    2     2      1             3              99      5   \n",
       "\n",
       "    RENDMEN  \n",
       "1       350  \n",
       "2       678  \n",
       "3         0  \n",
       "4       800  \n",
       "5         0  \n",
       "6         0  \n",
       "7       800  \n",
       "8         0  \n",
       "9      1100  \n",
       "10      134  \n",
       "11      NaN  "
      ]
     },
     "execution_count": 5,
     "metadata": {},
     "output_type": "execute_result"
    }
   ],
   "source": [
    "dados.head(11)"
   ]
  },
  {
   "cell_type": "markdown",
   "metadata": {},
   "source": [
    "## Classificação das Variáveis"
   ]
  },
  {
   "cell_type": "code",
   "execution_count": 6,
   "metadata": {
    "collapsed": true
   },
   "outputs": [],
   "source": [
    "dados.UF = dados.UF.astype('category')\n",
    "dados.REGIAO = dados.REGIAO.astype('category')\n",
    "dados.SEXO = dados.SEXO.astype('category')\n",
    "dados.COR = dados.COR.astype('category')\n",
    "dados.REDE = dados.REDE.astype('category')\n",
    "dados.NIVEL = dados.NIVEL.astype('category')\n",
    "dados.ALFABETIZADO = dados.ALFABETIZADO.astype('category')\n",
    "dados.INTERNET_MOVEL = dados.INTERNET_MOVEL.astype('category')"
   ]
  },
  {
   "cell_type": "code",
   "execution_count": 7,
   "metadata": {
    "collapsed": false
   },
   "outputs": [],
   "source": [
    "dados.UF.cat.categories = ('Rondônia', 'Acre','Amazonas','Roraima','Pará','Amapá','Tocantins','Maranhão','Piauí','Ceará','Rio Grande do Norte','Paraíba','Pernambuco','Alagoas','Sergipe','Bahia','Minas Gerais','Espírito Santo','Rio de Janeiro','São Paulo','Paraná','Santa Catarina','Rio Grande do Sul','Mato Grosso do Sul','Mato Grosso','Goiás','Distrito Federal')\n",
    "dados.REGIAO.cat.categories = ('Norte','Nordeste','Sudeste','Sul','Centro Oeste')\n",
    "dados.SEXO.cat.categories = ('Masculino','Feminino')\n",
    "dados.COR.cat.categories = ('Indígena','Branca','Preta','Amarela','Parda','Sem declaração')\n",
    "dados.REDE.cat.categories = ('Pública', 'Privada', 'Não se Aplica')\n",
    "dados.NIVEL.cat.categories = ('Maternal','Alfabetização','Alfabetização de Adultos','1a-4a série','5a-8a série','1a série fundamental','2a-5a série','6a-9a série','EJA','Médio','Superior', 'Não se Aplica') \n",
    "dados.ALFABETIZADO.cat.categories = ('Alfabetizado', 'Analfabeto')\n",
    "dados.INTERNET_MOVEL.cat.categories = ('Possui','Não possui', 'Não se Aplica')"
   ]
  },
  {
   "cell_type": "code",
   "execution_count": 8,
   "metadata": {
    "collapsed": false
   },
   "outputs": [
    {
     "data": {
      "text/html": [
       "<div>\n",
       "<table border=\"1\" class=\"dataframe\">\n",
       "  <thead>\n",
       "    <tr style=\"text-align: right;\">\n",
       "      <th></th>\n",
       "      <th>IDADE</th>\n",
       "      <th>RENDMEN</th>\n",
       "    </tr>\n",
       "  </thead>\n",
       "  <tbody>\n",
       "    <tr>\n",
       "      <th>count</th>\n",
       "      <td>362555.000000</td>\n",
       "      <td>3.105190e+05</td>\n",
       "    </tr>\n",
       "    <tr>\n",
       "      <th>mean</th>\n",
       "      <td>33.049813</td>\n",
       "      <td>2.291647e+10</td>\n",
       "    </tr>\n",
       "    <tr>\n",
       "      <th>std</th>\n",
       "      <td>20.870874</td>\n",
       "      <td>1.496375e+11</td>\n",
       "    </tr>\n",
       "    <tr>\n",
       "      <th>min</th>\n",
       "      <td>0.000000</td>\n",
       "      <td>0.000000e+00</td>\n",
       "    </tr>\n",
       "    <tr>\n",
       "      <th>25%</th>\n",
       "      <td>16.000000</td>\n",
       "      <td>0.000000e+00</td>\n",
       "    </tr>\n",
       "    <tr>\n",
       "      <th>50%</th>\n",
       "      <td>31.000000</td>\n",
       "      <td>6.780000e+02</td>\n",
       "    </tr>\n",
       "    <tr>\n",
       "      <th>75%</th>\n",
       "      <td>48.000000</td>\n",
       "      <td>1.300000e+03</td>\n",
       "    </tr>\n",
       "    <tr>\n",
       "      <th>max</th>\n",
       "      <td>109.000000</td>\n",
       "      <td>1.000000e+12</td>\n",
       "    </tr>\n",
       "  </tbody>\n",
       "</table>\n",
       "</div>"
      ],
      "text/plain": [
       "               IDADE       RENDMEN\n",
       "count  362555.000000  3.105190e+05\n",
       "mean       33.049813  2.291647e+10\n",
       "std        20.870874  1.496375e+11\n",
       "min         0.000000  0.000000e+00\n",
       "25%        16.000000  0.000000e+00\n",
       "50%        31.000000  6.780000e+02\n",
       "75%        48.000000  1.300000e+03\n",
       "max       109.000000  1.000000e+12"
      ]
     },
     "execution_count": 8,
     "metadata": {},
     "output_type": "execute_result"
    }
   ],
   "source": [
    "dados.describe()"
   ]
  },
  {
   "cell_type": "markdown",
   "metadata": {},
   "source": [
    "# Tirando o 999999999999 da coluna de RENDMEN"
   ]
  },
  {
   "cell_type": "code",
   "execution_count": 9,
   "metadata": {
    "collapsed": false
   },
   "outputs": [
    {
     "data": {
      "text/plain": [
       "count    303403.000000\n",
       "mean       1077.657584\n",
       "std        2269.936135\n",
       "min           0.000000\n",
       "25%           0.000000\n",
       "50%         678.000000\n",
       "75%        1200.000000\n",
       "max      180000.000000\n",
       "Name: RENDMEN, dtype: float64"
      ]
     },
     "execution_count": 9,
     "metadata": {},
     "output_type": "execute_result"
    }
   ],
   "source": [
    "Rend_sem_nan =dados.replace(to_replace={'RENDMEN': {999999999999: np.nan}}) \n",
    "\n",
    "dados.RENDMEN\n",
    "Rend_sem_nan.RENDMEN.describe()"
   ]
  },
  {
   "cell_type": "code",
   "execution_count": 10,
   "metadata": {
    "collapsed": false
   },
   "outputs": [
    {
     "data": {
      "text/plain": [
       "count    3.105190e+05\n",
       "mean     2.291647e+10\n",
       "std      1.496375e+11\n",
       "min      0.000000e+00\n",
       "25%      0.000000e+00\n",
       "50%      6.780000e+02\n",
       "75%      1.300000e+03\n",
       "max      1.000000e+12\n",
       "Name: RENDMEN, dtype: float64"
      ]
     },
     "execution_count": 10,
     "metadata": {},
     "output_type": "execute_result"
    }
   ],
   "source": [
    "dados.RENDMEN.describe()"
   ]
  },
  {
   "cell_type": "markdown",
   "metadata": {},
   "source": [
    "## Obtendo frequências relativas"
   ]
  },
  {
   "cell_type": "code",
   "execution_count": 11,
   "metadata": {
    "collapsed": false
   },
   "outputs": [
    {
     "name": "stdout",
     "output_type": "stream",
     "text": [
      "Frequências relativas por Região:\n",
      "Sul             28.996428\n",
      "Nordeste        28.849968\n",
      "Sudeste         16.324971\n",
      "Centro Oeste    15.477927\n",
      "Norte           10.350705\n",
      "dtype: float64 \n",
      "\n",
      "Frequências relativas por Sexo:\n",
      "Feminino     51.427508\n",
      "Masculino    48.572492\n",
      "dtype: float64 \n",
      "\n",
      "Frequências relativas por Cor/Raça:\n",
      "Parda             48.004303\n",
      "Branca            42.812263\n",
      "Preta              8.310463\n",
      "Indígena           0.465585\n",
      "Amarela            0.405732\n",
      "Sem declaração     0.001655\n",
      "dtype: float64 \n",
      "\n",
      "Frequências relativas por Rede de Ensino:\n",
      "Não se Aplica    71.550799\n",
      "Pública          21.501565\n",
      "Privada           6.947636\n",
      "dtype: float64 \n",
      "\n",
      "Frequências relativas por Nivel de Ensino:\n",
      "Não se Aplica               73.347768\n",
      "2a-5a série                  7.005006\n",
      "6a-9a série                  6.336142\n",
      "Médio                        4.800099\n",
      "Superior                     3.763291\n",
      "Maternal                     1.735737\n",
      "1a série fundamental         1.568038\n",
      "5a-8a série                  0.596323\n",
      "1a-4a série                  0.301196\n",
      "Alfabetização                0.295955\n",
      "EJA                          0.130463\n",
      "Alfabetização de Adultos     0.119982\n",
      "dtype: float64 \n",
      "\n",
      "Frequências relativas por Alfabetização:\n",
      "Alfabetizado    84.237978\n",
      "Analfabeto      15.762022\n",
      "dtype: float64 \n",
      "\n",
      "Frequências relativas por Acesso móvel à internet:\n",
      "Não se Aplica    56.527699\n",
      "Não possui       23.058570\n",
      "Possui           20.413730\n",
      "dtype: float64 \n",
      "\n"
     ]
    }
   ],
   "source": [
    "print('Frequências relativas por Região:')\n",
    "ut1 = (dados.REGIAO.value_counts(True) * 100)\n",
    "print(ut1,'\\n')\n",
    "\n",
    "print('Frequências relativas por Sexo:')\n",
    "ut2 = (dados.SEXO.value_counts(True) * 100)\n",
    "print(ut2,'\\n')\n",
    "\n",
    "print('Frequências relativas por Cor/Raça:')\n",
    "ut3 = (dados.COR.value_counts(True) * 100)\n",
    "print(ut3,'\\n')\n",
    "\n",
    "print('Frequências relativas por Rede de Ensino:')\n",
    "ut4 = (dados.REDE.value_counts(True)* 100)\n",
    "print(ut4,'\\n')\n",
    "\n",
    "print('Frequências relativas por Nivel de Ensino:')\n",
    "ut5 = (dados.NIVEL.value_counts(True) * 100)\n",
    "print(ut5,'\\n')\n",
    "\n",
    "print('Frequências relativas por Alfabetização:')\n",
    "ut6 = (dados.ALFABETIZADO.value_counts(True) * 100)\n",
    "print(ut6,'\\n')\n",
    "\n",
    "print('Frequências relativas por Acesso móvel à internet:')\n",
    "ut7 = (dados.INTERNET_MOVEL.value_counts(True) * 100)\n",
    "print(ut7,'\\n')"
   ]
  },
  {
   "cell_type": "markdown",
   "metadata": {},
   "source": [
    "## Plotando os gráficos"
   ]
  },
  {
   "cell_type": "markdown",
   "metadata": {},
   "source": [
    "### Região"
   ]
  },
  {
   "cell_type": "code",
   "execution_count": 12,
   "metadata": {
    "collapsed": false
   },
   "outputs": [
    {
     "data": {
      "text/plain": [
       "<matplotlib.text.Text at 0x11d668518>"
      ]
     },
     "execution_count": 12,
     "metadata": {},
     "output_type": "execute_result"
    },
    {
     "data": {
      "image/png": "[encoded data removed]",
      "text/plain": [
       "<matplotlib.figure.Figure at 0x112413eb8>"
      ]
     },
     "metadata": {},
     "output_type": "display_data"
    }
   ],
   "source": [
    "ut1.plot(kind='pie', colors=('blue', 'red','Green','orange','yellow'), autopct=\"%0.2f\",legend=False,figsize=(6, 6))\n",
    "plt.ylabel('REGIÃO')\n",
    "plt.xlabel('')\n",
    "\n"
   ]
  },
  {
   "cell_type": "markdown",
   "metadata": {},
   "source": [
    "### Sexo"
   ]
  },
  {
   "cell_type": "code",
   "execution_count": 13,
   "metadata": {
    "collapsed": false
   },
   "outputs": [
    {
     "data": {
      "text/plain": [
       "<matplotlib.text.Text at 0x11c987b38>"
      ]
     },
     "execution_count": 13,
     "metadata": {},
     "output_type": "execute_result"
    },
    {
     "data": {
      "image/png": "[encoded data removed]",
      "text/plain": [
       "<matplotlib.figure.Figure at 0x11e15de10>"
      ]
     },
     "metadata": {},
     "output_type": "display_data"
    }
   ],
   "source": [
    "ut2.plot(kind='bar', color=('red', 'blue'), legend=False,figsize=(6, 6))\n",
    "plt.title('SEXO')\n",
    "plt.ylabel('Frequencia Relativa (%)')\n",
    "plt.xlabel('')"
   ]
  },
  {
   "cell_type": "markdown",
   "metadata": {},
   "source": [
    "### Cor/Raça"
   ]
  },
  {
   "cell_type": "code",
   "execution_count": 14,
   "metadata": {
    "collapsed": false
   },
   "outputs": [
    {
     "data": {
      "text/plain": [
       "<matplotlib.text.Text at 0x11c8f81d0>"
      ]
     },
     "execution_count": 14,
     "metadata": {},
     "output_type": "execute_result"
    },
    {
     "data": {
      "image/png": "[encoded data removed]",
      "text/plain": [
       "<matplotlib.figure.Figure at 0x11e15dda0>"
      ]
     },
     "metadata": {},
     "output_type": "display_data"
    }
   ],
   "source": [
    "ut3.plot(kind='bar', color=('blue', 'red','Green','orange','yellow'), legend=False,figsize=(10, 6))\n",
    "plt.title('COR/RAÇA')\n",
    "plt.ylabel('Frequencia Relativa (%)')\n",
    "plt.xlabel('')"
   ]
  },
  {
   "cell_type": "markdown",
   "metadata": {},
   "source": [
    "### Rede de Ensino"
   ]
  },
  {
   "cell_type": "markdown",
   "metadata": {},
   "source": [
    "#### Com NaN"
   ]
  },
  {
   "cell_type": "code",
   "execution_count": 15,
   "metadata": {
    "collapsed": false
   },
   "outputs": [
    {
     "data": {
      "text/plain": [
       "<matplotlib.text.Text at 0x11cb37780>"
      ]
     },
     "execution_count": 15,
     "metadata": {},
     "output_type": "execute_result"
    },
    {
     "data": {
      "image/png": "[encoded data removed]",
      "text/plain": [
       "<matplotlib.figure.Figure at 0x11dbe7630>"
      ]
     },
     "metadata": {},
     "output_type": "display_data"
    }
   ],
   "source": [
    "ut4.plot(kind='pie', colors=('white', 'red','blue'), autopct=\"%0.2f\",legend=False,figsize=(6, 6))\n",
    "plt.ylabel('REDE DE ENSINO')\n",
    "plt.xlabel('')"
   ]
  },
  {
   "cell_type": "markdown",
   "metadata": {},
   "source": [
    "#### Sem NaN"
   ]
  },
  {
   "cell_type": "code",
   "execution_count": 16,
   "metadata": {
    "collapsed": false
   },
   "outputs": [
    {
     "data": {
      "text/plain": [
       "<matplotlib.text.Text at 0x11b8f90b8>"
      ]
     },
     "execution_count": 16,
     "metadata": {},
     "output_type": "execute_result"
    },
    {
     "data": {
      "image/png": "[encoded data removed]",
      "text/plain": [
       "<matplotlib.figure.Figure at 0x11b500518>"
      ]
     },
     "metadata": {},
     "output_type": "display_data"
    }
   ],
   "source": [
    "ut4_semNan = dados[dados.REDE != 'Não se Aplica']\n",
    "ut42 = ut4_semNan.REDE.value_counts(True)* 100\n",
    "\n",
    "ut42.plot(kind='pie', colors=('red','blue'), autopct=\"%0.2f\",legend=False,figsize=(6, 6))\n",
    "plt.ylabel('REDE DE ENSINO (Sem NaN)')\n",
    "plt.xlabel('')"
   ]
  },
  {
   "cell_type": "markdown",
   "metadata": {},
   "source": [
    "### Nível de Ensino"
   ]
  },
  {
   "cell_type": "markdown",
   "metadata": {},
   "source": [
    "#### Com NaN"
   ]
  },
  {
   "cell_type": "code",
   "execution_count": 17,
   "metadata": {
    "collapsed": false
   },
   "outputs": [
    {
     "data": {
      "text/plain": [
       "<matplotlib.text.Text at 0x11a9e40f0>"
      ]
     },
     "execution_count": 17,
     "metadata": {},
     "output_type": "execute_result"
    },
    {
     "data": {
      "image/png": "[encoded data removed]",
      "text/plain": [
       "<matplotlib.figure.Figure at 0x11b08ee80>"
      ]
     },
     "metadata": {},
     "output_type": "display_data"
    }
   ],
   "source": [
    "ut5 = ut5.reindex(['Maternal','Alfabetização','Alfabetização de Adultos','1a-4a série','5a-8a série','1a série fundamental','2a-5a série','6a-9a série','EJA','Médio','Superior', 'Não se Aplica'])\n",
    "ut5.plot(kind='bar', color=('blue', 'red','Green','orange','yellow','blue', 'red','Green','orange','yellow', 'blue', 'white'), legend=False,figsize=(10, 6))\n",
    "plt.axis([-0.5, 11.5, 0, 80])\n",
    "plt.title('NÍVEL DE ENSINO')\n",
    "plt.ylabel('Frequencia Relativa (%)')"
   ]
  },
  {
   "cell_type": "markdown",
   "metadata": {},
   "source": [
    "#### Sem NaN"
   ]
  },
  {
   "cell_type": "code",
   "execution_count": 18,
   "metadata": {
    "collapsed": false
   },
   "outputs": [
    {
     "data": {
      "text/plain": [
       "<matplotlib.text.Text at 0x11ab060b8>"
      ]
     },
     "execution_count": 18,
     "metadata": {},
     "output_type": "execute_result"
    },
    {
     "data": {
      "image/png": "[encoded data removed]",
      "text/plain": [
       "<matplotlib.figure.Figure at 0x11a1e4668>"
      ]
     },
     "metadata": {},
     "output_type": "display_data"
    }
   ],
   "source": [
    "ut5_semNan = dados[dados.NIVEL != 'Não se Aplica']\n",
    "ut52 = ut5_semNan.NIVEL.value_counts(True)* 100\n",
    "ut52 = ut52.reindex(['Maternal','Alfabetização','Alfabetização de Adultos','1a-4a série','5a-8a série','1a série fundamental','2a-5a série','6a-9a série','EJA','Médio','Superior', 'Não se Aplica'])\n",
    "\n",
    "\n",
    "ut52.plot(kind='bar', color=('blue', 'red','Green','orange','yellow'), legend=False,figsize=(10, 6))\n",
    "plt.axis([-0.5, 10.5, 0, 30])\n",
    "plt.title('NÍVEL DE ENSINO (Sem Na)')\n",
    "plt.ylabel('Frequencia Relativa (%)')"
   ]
  },
  {
   "cell_type": "markdown",
   "metadata": {},
   "source": [
    "### Alfabetização"
   ]
  },
  {
   "cell_type": "code",
   "execution_count": 19,
   "metadata": {
    "collapsed": false
   },
   "outputs": [
    {
     "data": {
      "text/plain": [
       "<matplotlib.text.Text at 0x1191d1ac8>"
      ]
     },
     "execution_count": 19,
     "metadata": {},
     "output_type": "execute_result"
    },
    {
     "data": {
      "image/png": "[encoded data removed]",
      "text/plain": [
       "<matplotlib.figure.Figure at 0x11de16390>"
      ]
     },
     "metadata": {},
     "output_type": "display_data"
    }
   ],
   "source": [
    "ut6.plot(kind='bar', color=('red', 'blue'), legend=False,figsize=(6, 6))\n",
    "plt.title('ALFABETIZAÇÃO')\n",
    "plt.ylabel('Frequencia Relativa (%)')\n",
    "plt.xlabel('')"
   ]
  },
  {
   "cell_type": "markdown",
   "metadata": {},
   "source": [
    "### Acesso a internet Móvel"
   ]
  },
  {
   "cell_type": "markdown",
   "metadata": {},
   "source": [
    "#### Com Nan"
   ]
  },
  {
   "cell_type": "code",
   "execution_count": 20,
   "metadata": {
    "collapsed": false
   },
   "outputs": [
    {
     "data": {
      "text/plain": [
       "<matplotlib.text.Text at 0x119502be0>"
      ]
     },
     "execution_count": 20,
     "metadata": {},
     "output_type": "execute_result"
    },
    {
     "data": {
      "image/png": "[encoded data removed]",
      "text/plain": [
       "<matplotlib.figure.Figure at 0x119f95470>"
      ]
     },
     "metadata": {},
     "output_type": "display_data"
    }
   ],
   "source": [
    "ut7.plot(kind='pie', colors=('white', 'red','blue'), autopct=\"%0.2f\",legend=False,figsize=(6, 6))\n",
    "plt.ylabel('ACESSO A INTERNET MOVEL')\n",
    "plt.xlabel('')"
   ]
  },
  {
   "cell_type": "markdown",
   "metadata": {},
   "source": [
    "#### Sem Nan"
   ]
  },
  {
   "cell_type": "code",
   "execution_count": 21,
   "metadata": {
    "collapsed": false
   },
   "outputs": [
    {
     "data": {
      "text/plain": [
       "<matplotlib.text.Text at 0x108d7f438>"
      ]
     },
     "execution_count": 21,
     "metadata": {},
     "output_type": "execute_result"
    },
    {
     "data": {
      "image/png": "[encoded data removed]",
      "text/plain": [
       "<matplotlib.figure.Figure at 0x118bdab38>"
      ]
     },
     "metadata": {},
     "output_type": "display_data"
    }
   ],
   "source": [
    "ut7_semNan = dados[dados.INTERNET_MOVEL != 'Não se Aplica']\n",
    "ut72 = ut7_semNan.INTERNET_MOVEL.value_counts(True)* 100\n",
    "\n",
    "ut72.plot(kind='pie', colors=('red','blue'), autopct=\"%0.2f\",legend=False,figsize=(6, 6))\n",
    "plt.ylabel('ACESSO A INTERNET MOVEL (Sem NaN)')\n",
    "plt.xlabel('')"
   ]
  },
  {
   "cell_type": "markdown",
   "metadata": {},
   "source": [
    "### Análises "
   ]
  },
  {
   "cell_type": "markdown",
   "metadata": {},
   "source": [
    "#### Rede de ensino vs. Região"
   ]
  },
  {
   "cell_type": "markdown",
   "metadata": {},
   "source": [
    "##### Frequência Absoluta"
   ]
  },
  {
   "cell_type": "code",
   "execution_count": 22,
   "metadata": {
    "collapsed": false
   },
   "outputs": [
    {
     "data": {
      "text/html": [
       "<div>\n",
       "<table border=\"1\" class=\"dataframe\">\n",
       "  <thead>\n",
       "    <tr style=\"text-align: right;\">\n",
       "      <th>REGIAO</th>\n",
       "      <th>Norte</th>\n",
       "      <th>Nordeste</th>\n",
       "      <th>Sudeste</th>\n",
       "      <th>Sul</th>\n",
       "      <th>Centro Oeste</th>\n",
       "    </tr>\n",
       "    <tr>\n",
       "      <th>REDE</th>\n",
       "      <th></th>\n",
       "      <th></th>\n",
       "      <th></th>\n",
       "      <th></th>\n",
       "      <th></th>\n",
       "    </tr>\n",
       "  </thead>\n",
       "  <tbody>\n",
       "    <tr>\n",
       "      <th>Pública</th>\n",
       "      <td>7587</td>\n",
       "      <td>23395</td>\n",
       "      <td>16305</td>\n",
       "      <td>19898</td>\n",
       "      <td>10770</td>\n",
       "    </tr>\n",
       "    <tr>\n",
       "      <th>Privada</th>\n",
       "      <td>3111</td>\n",
       "      <td>7953</td>\n",
       "      <td>3155</td>\n",
       "      <td>7307</td>\n",
       "      <td>3663</td>\n",
       "    </tr>\n",
       "    <tr>\n",
       "      <th>Não se Aplica</th>\n",
       "      <td>26829</td>\n",
       "      <td>73249</td>\n",
       "      <td>39727</td>\n",
       "      <td>77923</td>\n",
       "      <td>41683</td>\n",
       "    </tr>\n",
       "  </tbody>\n",
       "</table>\n",
       "</div>"
      ],
      "text/plain": [
       "REGIAO         Norte  Nordeste  Sudeste    Sul  Centro Oeste\n",
       "REDE                                                        \n",
       "Pública         7587     23395    16305  19898         10770\n",
       "Privada         3111      7953     3155   7307          3663\n",
       "Não se Aplica  26829     73249    39727  77923         41683"
      ]
     },
     "execution_count": 22,
     "metadata": {},
     "output_type": "execute_result"
    }
   ],
   "source": [
    "ct1 = pd.crosstab(dados.REDE, dados.REGIAO)\n",
    "\n",
    "ct1"
   ]
  },
  {
   "cell_type": "code",
   "execution_count": 23,
   "metadata": {
    "collapsed": false
   },
   "outputs": [
    {
     "data": {
      "text/plain": [
       "<matplotlib.text.Text at 0x118083f28>"
      ]
     },
     "execution_count": 23,
     "metadata": {},
     "output_type": "execute_result"
    },
    {
     "data": {
      "image/png": "[encoded data removed]",
      "text/plain": [
       "<matplotlib.figure.Figure at 0x117b0d080>"
      ]
     },
     "metadata": {},
     "output_type": "display_data"
    }
   ],
   "source": [
    "ct1 = ct1.reindex(['Privada','Pública','Não se Aplica'])\n",
    "ct1.plot(kind='bar', color=('yellow', 'salmon', 'blue', 'red', 'green'), legend=True)\n",
    "plt.axis([-0.3, 0.75, 0, 9000])\n",
    "plt.title('REDE DE ENSINO')\n",
    "plt.ylabel('Frequencia Absoluta')\n",
    "plt.xlabel('')"
   ]
  },
  {
   "cell_type": "markdown",
   "metadata": {},
   "source": [
    "##### Frequência Relativa "
   ]
  },
  {
   "cell_type": "code",
   "execution_count": 24,
   "metadata": {
    "collapsed": false
   },
   "outputs": [],
   "source": [
    "soma_regioes = ct1.sum()"
   ]
  },
  {
   "cell_type": "code",
   "execution_count": 25,
   "metadata": {
    "collapsed": false
   },
   "outputs": [
    {
     "data": {
      "text/html": [
       "<div>\n",
       "<table border=\"1\" class=\"dataframe\">\n",
       "  <thead>\n",
       "    <tr style=\"text-align: right;\">\n",
       "      <th>REGIAO</th>\n",
       "      <th>Norte</th>\n",
       "      <th>Nordeste</th>\n",
       "      <th>Sudeste</th>\n",
       "      <th>Sul</th>\n",
       "      <th>Centro Oeste</th>\n",
       "    </tr>\n",
       "    <tr>\n",
       "      <th>REDE</th>\n",
       "      <th></th>\n",
       "      <th></th>\n",
       "      <th></th>\n",
       "      <th></th>\n",
       "      <th></th>\n",
       "    </tr>\n",
       "  </thead>\n",
       "  <tbody>\n",
       "    <tr>\n",
       "      <th>Privada</th>\n",
       "      <td>8.290031</td>\n",
       "      <td>7.603469</td>\n",
       "      <td>5.330562</td>\n",
       "      <td>6.950575</td>\n",
       "      <td>6.527550</td>\n",
       "    </tr>\n",
       "    <tr>\n",
       "      <th>Pública</th>\n",
       "      <td>20.217443</td>\n",
       "      <td>22.366798</td>\n",
       "      <td>27.548279</td>\n",
       "      <td>18.927403</td>\n",
       "      <td>19.192387</td>\n",
       "    </tr>\n",
       "    <tr>\n",
       "      <th>Não se Aplica</th>\n",
       "      <td>71.492525</td>\n",
       "      <td>70.029733</td>\n",
       "      <td>67.121158</td>\n",
       "      <td>74.122023</td>\n",
       "      <td>74.280063</td>\n",
       "    </tr>\n",
       "  </tbody>\n",
       "</table>\n",
       "</div>"
      ],
      "text/plain": [
       "REGIAO             Norte   Nordeste    Sudeste        Sul  Centro Oeste\n",
       "REDE                                                                   \n",
       "Privada         8.290031   7.603469   5.330562   6.950575      6.527550\n",
       "Pública        20.217443  22.366798  27.548279  18.927403     19.192387\n",
       "Não se Aplica  71.492525  70.029733  67.121158  74.122023     74.280063"
      ]
     },
     "execution_count": 25,
     "metadata": {},
     "output_type": "execute_result"
    }
   ],
   "source": [
    "ct12 = (ct1/soma_regioes)*100\n",
    "ct12"
   ]
  },
  {
   "cell_type": "code",
   "execution_count": 26,
   "metadata": {
    "collapsed": false
   },
   "outputs": [
    {
     "data": {
      "text/plain": [
       "<matplotlib.text.Text at 0x1167f7eb8>"
      ]
     },
     "execution_count": 26,
     "metadata": {},
     "output_type": "execute_result"
    },
    {
     "data": {
      "image/png": "[encoded data removed]",
      "text/plain": [
       "<matplotlib.figure.Figure at 0x117727748>"
      ]
     },
     "metadata": {},
     "output_type": "display_data"
    }
   ],
   "source": [
    "ct12 = ct12.reindex(['Privada','Pública','Não se Aplica'])\n",
    "ct12.plot(kind='bar', color=('yellow', 'salmon', 'blue', 'red', 'green'), legend=True)\n",
    "plt.axis([-0.3, 0.3, 0, 50])\n",
    "plt.title('REDE DE ENSINO')\n",
    "plt.ylabel('Frequencia Relativa (%)')\n",
    "plt.xlabel('')"
   ]
  },
  {
   "cell_type": "markdown",
   "metadata": {
    "collapsed": true
   },
   "source": [
    "#### Nível de Ensino vs. Região"
   ]
  },
  {
   "cell_type": "code",
   "execution_count": 27,
   "metadata": {
    "collapsed": false
   },
   "outputs": [
    {
     "data": {
      "text/html": [
       "<div>\n",
       "<table border=\"1\" class=\"dataframe\">\n",
       "  <thead>\n",
       "    <tr style=\"text-align: right;\">\n",
       "      <th>REGIAO</th>\n",
       "      <th>Norte</th>\n",
       "      <th>Nordeste</th>\n",
       "      <th>Sudeste</th>\n",
       "      <th>Sul</th>\n",
       "      <th>Centro Oeste</th>\n",
       "    </tr>\n",
       "    <tr>\n",
       "      <th>NIVEL</th>\n",
       "      <th></th>\n",
       "      <th></th>\n",
       "      <th></th>\n",
       "      <th></th>\n",
       "      <th></th>\n",
       "    </tr>\n",
       "  </thead>\n",
       "  <tbody>\n",
       "    <tr>\n",
       "      <th>Maternal</th>\n",
       "      <td>616</td>\n",
       "      <td>2182</td>\n",
       "      <td>1145</td>\n",
       "      <td>1656</td>\n",
       "      <td>694</td>\n",
       "    </tr>\n",
       "    <tr>\n",
       "      <th>Alfabetização</th>\n",
       "      <td>114</td>\n",
       "      <td>371</td>\n",
       "      <td>238</td>\n",
       "      <td>282</td>\n",
       "      <td>68</td>\n",
       "    </tr>\n",
       "    <tr>\n",
       "      <th>Alfabetização de Adultos</th>\n",
       "      <td>26</td>\n",
       "      <td>227</td>\n",
       "      <td>49</td>\n",
       "      <td>82</td>\n",
       "      <td>51</td>\n",
       "    </tr>\n",
       "    <tr>\n",
       "      <th>1a-4a série</th>\n",
       "      <td>72</td>\n",
       "      <td>367</td>\n",
       "      <td>299</td>\n",
       "      <td>187</td>\n",
       "      <td>167</td>\n",
       "    </tr>\n",
       "    <tr>\n",
       "      <th>5a-8a série</th>\n",
       "      <td>100</td>\n",
       "      <td>454</td>\n",
       "      <td>460</td>\n",
       "      <td>425</td>\n",
       "      <td>723</td>\n",
       "    </tr>\n",
       "    <tr>\n",
       "      <th>1a série fundamental</th>\n",
       "      <td>586</td>\n",
       "      <td>1687</td>\n",
       "      <td>1146</td>\n",
       "      <td>1529</td>\n",
       "      <td>737</td>\n",
       "    </tr>\n",
       "    <tr>\n",
       "      <th>2a-5a série</th>\n",
       "      <td>2453</td>\n",
       "      <td>8056</td>\n",
       "      <td>5481</td>\n",
       "      <td>6145</td>\n",
       "      <td>3262</td>\n",
       "    </tr>\n",
       "    <tr>\n",
       "      <th>6a-9a série</th>\n",
       "      <td>2388</td>\n",
       "      <td>7439</td>\n",
       "      <td>4396</td>\n",
       "      <td>6134</td>\n",
       "      <td>2615</td>\n",
       "    </tr>\n",
       "    <tr>\n",
       "      <th>EJA</th>\n",
       "      <td>36</td>\n",
       "      <td>181</td>\n",
       "      <td>133</td>\n",
       "      <td>56</td>\n",
       "      <td>67</td>\n",
       "    </tr>\n",
       "    <tr>\n",
       "      <th>Médio</th>\n",
       "      <td>1817</td>\n",
       "      <td>5057</td>\n",
       "      <td>3316</td>\n",
       "      <td>4781</td>\n",
       "      <td>2432</td>\n",
       "    </tr>\n",
       "    <tr>\n",
       "      <th>Superior</th>\n",
       "      <td>1909</td>\n",
       "      <td>3438</td>\n",
       "      <td>2090</td>\n",
       "      <td>3807</td>\n",
       "      <td>2400</td>\n",
       "    </tr>\n",
       "    <tr>\n",
       "      <th>Não se Aplica</th>\n",
       "      <td>27410</td>\n",
       "      <td>75138</td>\n",
       "      <td>40434</td>\n",
       "      <td>80044</td>\n",
       "      <td>42900</td>\n",
       "    </tr>\n",
       "  </tbody>\n",
       "</table>\n",
       "</div>"
      ],
      "text/plain": [
       "REGIAO                    Norte  Nordeste  Sudeste    Sul  Centro Oeste\n",
       "NIVEL                                                                  \n",
       "Maternal                    616      2182     1145   1656           694\n",
       "Alfabetização               114       371      238    282            68\n",
       "Alfabetização de Adultos     26       227       49     82            51\n",
       "1a-4a série                  72       367      299    187           167\n",
       "5a-8a série                 100       454      460    425           723\n",
       "1a série fundamental        586      1687     1146   1529           737\n",
       "2a-5a série                2453      8056     5481   6145          3262\n",
       "6a-9a série                2388      7439     4396   6134          2615\n",
       "EJA                          36       181      133     56            67\n",
       "Médio                      1817      5057     3316   4781          2432\n",
       "Superior                   1909      3438     2090   3807          2400\n",
       "Não se Aplica             27410     75138    40434  80044         42900"
      ]
     },
     "execution_count": 27,
     "metadata": {},
     "output_type": "execute_result"
    }
   ],
   "source": [
    "ct2 = pd.crosstab(dados.NIVEL, dados.REGIAO)\n",
    "ct2"
   ]
  },
  {
   "cell_type": "code",
   "execution_count": 28,
   "metadata": {
    "collapsed": false
   },
   "outputs": [
    {
     "data": {
      "text/plain": [
       "<matplotlib.text.Text at 0x117b26518>"
      ]
     },
     "execution_count": 28,
     "metadata": {},
     "output_type": "execute_result"
    },
    {
     "data": {
      "image/png": "[encoded data removed]",
      "text/plain": [
       "<matplotlib.figure.Figure at 0x11f4fe6a0>"
      ]
     },
     "metadata": {},
     "output_type": "display_data"
    }
   ],
   "source": [
    "ct2.plot(kind='bar', color=('yellow', 'salmon', 'blue', 'red', 'green'), legend=True)\n",
    "plt.axis([8.5, 10.5, 0, 12000])\n",
    "plt.title('NÍVEL DE ENSINO')\n",
    "plt.ylabel('Frequencia Absoluta')\n",
    "plt.xlabel('')"
   ]
  },
  {
   "cell_type": "markdown",
   "metadata": {},
   "source": [
    "##### Frequência Relativa "
   ]
  },
  {
   "cell_type": "code",
   "execution_count": 29,
   "metadata": {
    "collapsed": false
   },
   "outputs": [
    {
     "data": {
      "text/plain": [
       "Sul             105128\n",
       "Nordeste        104597\n",
       "Sudeste          59187\n",
       "Centro Oeste     56116\n",
       "Norte            37527\n",
       "dtype: int64"
      ]
     },
     "execution_count": 29,
     "metadata": {},
     "output_type": "execute_result"
    }
   ],
   "source": [
    "ut12 = (dados.REGIAO.value_counts())\n",
    "\n",
    "pop_sul = ut12[3]\n",
    "pop_ndst = ut12[1]\n",
    "ut12"
   ]
  },
  {
   "cell_type": "code",
   "execution_count": 30,
   "metadata": {
    "collapsed": false
   },
   "outputs": [
    {
     "name": "stdout",
     "output_type": "stream",
     "text": [
      "105128\n",
      "Sul:  8588\n",
      "8.16908911042\n",
      "\n",
      "104597\n",
      "Nordeste:  8495\n",
      "8.12164784841\n",
      "\n",
      "Diferença: 93\n"
     ]
    }
   ],
   "source": [
    "\n",
    "soma_sul = ct2.ix[9][3] + ct2.ix[10][3] \n",
    "pct_sul = (soma_sul/pop_sul)*100\n",
    "\n",
    "soma_nordeste = ct2.ix[9][1] + ct2.ix[10][1] \n",
    "pct_ndst = (soma_nordeste/pop_ndst)*100\n",
    "dif = soma_sul - soma_nordeste\n",
    "\n",
    "print(pop_sul)\n",
    "print('Sul: ', soma_sul)\n",
    "print(pct_sul)\n",
    "print()\n",
    "print(pop_ndst)\n",
    "print('Nordeste: ',soma_nordeste)\n",
    "print(pct_ndst)\n",
    "print()\n",
    "print('Diferença:',dif)"
   ]
  },
  {
   "cell_type": "markdown",
   "metadata": {},
   "source": [
    "# Variáveis Quantitativas"
   ]
  },
  {
   "cell_type": "markdown",
   "metadata": {},
   "source": [
    "### Rendimento Mensal"
   ]
  },
  {
   "cell_type": "markdown",
   "metadata": {},
   "source": [
    "#### Plotbox"
   ]
  },
  {
   "cell_type": "code",
   "execution_count": 31,
   "metadata": {
    "collapsed": false
   },
   "outputs": [
    {
     "data": {
      "text/plain": [
       "count    303403.000000\n",
       "mean       1077.657584\n",
       "std        2269.936135\n",
       "min           0.000000\n",
       "25%           0.000000\n",
       "50%         678.000000\n",
       "75%        1200.000000\n",
       "max      180000.000000\n",
       "Name: RENDMEN, dtype: float64"
      ]
     },
     "execution_count": 31,
     "metadata": {},
     "output_type": "execute_result"
    }
   ],
   "source": [
    "A = Rend_sem_nan.RENDMEN\n",
    "A.describe()"
   ]
  },
  {
   "cell_type": "code",
   "execution_count": 42,
   "metadata": {
    "collapsed": false
   },
   "outputs": [
    {
     "data": {
      "text/plain": [
       "[0.5, 1.5, 0, 4000]"
      ]
     },
     "execution_count": 42,
     "metadata": {},
     "output_type": "execute_result"
    },
    {
     "data": {
      "image/png": "[encoded data removed]",
      "text/plain": [
       "<matplotlib.figure.Figure at 0x108e42160>"
      ]
     },
     "metadata": {},
     "output_type": "display_data"
    }
   ],
   "source": [
    "A.plot.box()\n",
    "plt.axis([0.5,1.5,0,4000])"
   ]
  },
  {
   "cell_type": "code",
   "execution_count": 122,
   "metadata": {
    "collapsed": false
   },
   "outputs": [
    {
     "data": {
      "text/plain": [
       "count    303403.000000\n",
       "mean       1077.657584\n",
       "std        2269.936135\n",
       "min           0.000000\n",
       "25%           0.000000\n",
       "50%         678.000000\n",
       "75%        1200.000000\n",
       "max      180000.000000\n",
       "Name: RENDMEN, dtype: float64"
      ]
     },
     "execution_count": 122,
     "metadata": {},
     "output_type": "execute_result"
    }
   ],
   "source": [
    "Rend_sem_nan.RENDMEN.describe.plot "
   ]
  },
  {
   "cell_type": "markdown",
   "metadata": {},
   "source": [
    "#### Histograma"
   ]
  },
  {
   "cell_type": "code",
   "execution_count": 43,
   "metadata": {
    "collapsed": false
   },
   "outputs": [],
   "source": [
    "#Rend_sem_nan.RENDMEN.plot.hist()"
   ]
  },
  {
   "cell_type": "markdown",
   "metadata": {},
   "source": [
    "### Idade"
   ]
  },
  {
   "cell_type": "markdown",
   "metadata": {},
   "source": [
    "#### PlotBox"
   ]
  },
  {
   "cell_type": "markdown",
   "metadata": {},
   "source": [
    "### Geral"
   ]
  },
  {
   "cell_type": "code",
   "execution_count": null,
   "metadata": {
    "collapsed": false
   },
   "outputs": [],
   "source": [
    "#pd.crosstab(dados.IDADE, dados.REGIAO)"
   ]
  },
  {
   "cell_type": "code",
   "execution_count": 78,
   "metadata": {
    "collapsed": false
   },
   "outputs": [
    {
     "data": {
      "text/plain": [
       "<matplotlib.axes._subplots.AxesSubplot at 0x118767eb8>"
      ]
     },
     "execution_count": 78,
     "metadata": {},
     "output_type": "execute_result"
    },
    {
     "data": {
      "image/png": "[encoded data removed]",
      "text/plain": [
       "<matplotlib.figure.Figure at 0x11bbdb6a0>"
      ]
     },
     "metadata": {},
     "output_type": "display_data"
    }
   ],
   "source": [
    "dados.IDADE.plot.box()"
   ]
  },
  {
   "cell_type": "markdown",
   "metadata": {},
   "source": [
    "### Por Estado"
   ]
  },
  {
   "cell_type": "code",
   "execution_count": 58,
   "metadata": {
    "collapsed": false
   },
   "outputs": [
    {
     "data": {
      "text/plain": [
       "<matplotlib.text.Text at 0x1193800f0>"
      ]
     },
     "execution_count": 58,
     "metadata": {},
     "output_type": "execute_result"
    },
    {
     "data": {
      "image/png": "[encoded data removed]",
      "text/plain": [
       "<matplotlib.figure.Figure at 0x11968c0b8>"
      ]
     },
     "metadata": {},
     "output_type": "display_data"
    }
   ],
   "source": [
    "S = dados[dados.REGIAO == 'Sul']\n",
    "S = S.IDADE\n",
    "S.plot.box()\n",
    "plt.axis([0.5,1.5,0,111])\n",
    "plt.title('Região Sul ')"
   ]
  },
  {
   "cell_type": "code",
   "execution_count": 52,
   "metadata": {
    "collapsed": false
   },
   "outputs": [
    {
     "data": {
      "text/plain": [
       "<matplotlib.text.Text at 0x11b4cbda0>"
      ]
     },
     "execution_count": 52,
     "metadata": {},
     "output_type": "execute_result"
    },
    {
     "data": {
      "image/png": "[encoded data removed]",
      "text/plain": [
       "<matplotlib.figure.Figure at 0x115011f60>"
      ]
     },
     "metadata": {},
     "output_type": "display_data"
    }
   ],
   "source": [
    "N = dados[dados.REGIAO == 'Norte']\n",
    "N = N.IDADE\n",
    "N.plot.box()\n",
    "plt.axis([0.5,1.5,0,111])\n",
    "plt.title('Região Norte')"
   ]
  },
  {
   "cell_type": "code",
   "execution_count": 53,
   "metadata": {
    "collapsed": false
   },
   "outputs": [
    {
     "data": {
      "text/plain": [
       "<matplotlib.text.Text at 0x1196ab438>"
      ]
     },
     "execution_count": 53,
     "metadata": {},
     "output_type": "execute_result"
    },
    {
     "data": {
      "image/png": "[encoded data removed]",
      "text/plain": [
       "<matplotlib.figure.Figure at 0x11792aa58>"
      ]
     },
     "metadata": {},
     "output_type": "display_data"
    }
   ],
   "source": [
    "SD = dados[dados.REGIAO == 'Sudeste']\n",
    "SD = SD.IDADE\n",
    "SD.plot.box()\n",
    "plt.axis([0.5,1.5,0,111])\n",
    "plt.title('Região Sudeste')"
   ]
  },
  {
   "cell_type": "code",
   "execution_count": 52,
   "metadata": {
    "collapsed": false
   },
   "outputs": [
    {
     "data": {
      "text/plain": [
       "<matplotlib.text.Text at 0x11792c710>"
      ]
     },
     "execution_count": 52,
     "metadata": {},
     "output_type": "execute_result"
    },
    {
     "data": {
      "image/png": "[encoded data removed]",
      "text/plain": [
       "<matplotlib.figure.Figure at 0x11cce4b70>"
      ]
     },
     "metadata": {},
     "output_type": "display_data"
    }
   ],
   "source": [
    "ND = dados[dados.REGIAO == 'Nordeste']\n",
    "ND = ND.IDADE\n",
    "ND.plot.box()\n",
    "plt.axis([0.5,1.5,0,109])\n",
    "plt.title('Região Nordeste')"
   ]
  },
  {
   "cell_type": "code",
   "execution_count": 51,
   "metadata": {
    "collapsed": false
   },
   "outputs": [
    {
     "data": {
      "text/plain": [
       "<matplotlib.text.Text at 0x114b54908>"
      ]
     },
     "execution_count": 51,
     "metadata": {},
     "output_type": "execute_result"
    },
    {
     "data": {
      "image/png": "[encoded data removed]",
      "text/plain": [
       "<matplotlib.figure.Figure at 0x112b0c208>"
      ]
     },
     "metadata": {},
     "output_type": "display_data"
    }
   ],
   "source": [
    "CO = dados[dados.REGIAO == 'Centro Oeste']\n",
    "CO = CO.IDADE\n",
    "CO.plot.box()\n",
    "plt.axis([0.5,1.5,0,111])\n",
    "plt.title('Região Centro Oeste')"
   ]
  },
  {
   "cell_type": "markdown",
   "metadata": {},
   "source": [
    "#### Histograma "
   ]
  },
  {
   "cell_type": "code",
   "execution_count": 15,
   "metadata": {
    "collapsed": false
   },
   "outputs": [
    {
     "data": {
      "text/plain": [
       "<matplotlib.axes._subplots.AxesSubplot at 0x11d416f98>"
      ]
     },
     "execution_count": 15,
     "metadata": {},
     "output_type": "execute_result"
    },
    {
     "data": {
      "image/png": "[encoded data removed]",
      "text/plain": [
       "<matplotlib.figure.Figure at 0x117a6b4a8>"
      ]
     },
     "metadata": {},
     "output_type": "display_data"
    }
   ],
   "source": [
    "dados.IDADE.plot.hist()"
   ]
  },
  {
   "cell_type": "markdown",
   "metadata": {},
   "source": [
    "### Intervalando a Idade"
   ]
  },
  {
   "cell_type": "code",
   "execution_count": 80,
   "metadata": {
    "collapsed": false
   },
   "outputs": [],
   "source": [
    "dados.insert(9,'INTRVL_IDADE',0)"
   ]
  },
  {
   "cell_type": "code",
   "execution_count": 83,
   "metadata": {
    "collapsed": false
   },
   "outputs": [
    {
     "name": "stdout",
     "output_type": "stream",
     "text": [
      "Pronto\n"
     ]
    }
   ],
   "source": [
    "dados.ix[dados.IDADE <= 15,'INTRVL_IDADE'] = '-15'\n",
    "dados.ix[(dados.IDADE >=16) & (dados.IDADE<=25),'INTRVL_IDADE'] = '16-25'\n",
    "dados.ix[(dados.IDADE >=26) & (dados.IDADE<=40),'INTRVL_IDADE'] = '26-40'\n",
    "dados.ix[(dados.IDADE >=41) & (dados.IDADE<=60),'INTRVL_IDADE'] = '41-60'\n",
    "dados.ix[(dados.IDADE >=61) & (dados.IDADE<=80),'INTRVL_IDADE'] = '61-80'\n",
    "dados.ix[dados.IDADE >=80 ,'INTRVL_IDADE'] = '80+'\n",
    "\n",
    "print('Pronto')"
   ]
  },
  {
   "cell_type": "code",
   "execution_count": 89,
   "metadata": {
    "collapsed": false
   },
   "outputs": [
    {
     "data": {
      "text/plain": [
       "<matplotlib.axes._subplots.AxesSubplot at 0x11b9b58d0>"
      ]
     },
     "execution_count": 89,
     "metadata": {},
     "output_type": "execute_result"
    },
    {
     "data": {
      "image/png": "[encoded data removed]",
      "text/plain": [
       "<matplotlib.figure.Figure at 0x114a66978>"
      ]
     },
     "metadata": {},
     "output_type": "display_data"
    }
   ],
   "source": [
    "idade_intervalada = dados.INTRVL_IDADE.value_counts()\n",
    "ct3 = pd.crosstab(dados.INTRVL_IDADE, dados.REGIAO)\n",
    "ct3.plot(kind='bar', color=('yellow', 'salmon', 'blue', 'red', 'green', 'silver'), legend=True)"
   ]
  },
  {
   "cell_type": "markdown",
   "metadata": {
    "collapsed": false
   },
   "source": [
    "# Recomendação:\n",
    "\n",
    "### A partir das análises qualitativas feitas, para suceder em sua empreitada, Sr. Gold deveria considera a Região Nordeste ou Sul do País para abrir sua Universidade. Podemos afirmar isso pois é nessas duas regiões onde o público alvo para seu produto: Jovens cursando o ensino Médio e Superior em redes de ensino Privada se encontra em maior quantidade (tanto absoluta quanto relativa)"
   ]
  },
  {
   "cell_type": "code",
   "execution_count": null,
   "metadata": {
    "collapsed": false
   },
   "outputs": [],
   "source": []
  },
  {
   "cell_type": "code",
   "execution_count": null,
   "metadata": {
    "collapsed": true
   },
   "outputs": [],
   "source": []
  }
 ],
 "metadata": {
  "kernelspec": {
   "display_name": "Python 3",
   "language": "python",
   "name": "python3"
  },
  "language_info": {
   "codemirror_mode": {
    "name": "ipython",
    "version": 3
   },
   "file_extension": ".py",
   "mimetype": "text/x-python",
   "name": "python",
   "nbconvert_exporter": "python",
   "pygments_lexer": "ipython3",
   "version": "3.5.1"
  }
 },
 "nbformat": 4,
 "nbformat_minor": 0
}
